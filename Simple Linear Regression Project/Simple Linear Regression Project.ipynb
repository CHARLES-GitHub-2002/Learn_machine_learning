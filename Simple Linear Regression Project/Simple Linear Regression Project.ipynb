{
 "cells": [
  {
   "cell_type": "markdown",
   "id": "ac060e3a-ff25-4d14-b33d-85c52245e813",
   "metadata": {},
   "source": [
    "# Simple Linear Regression Project\n",
    "\n",
    "## Modelling the linear relationship between Sales and Advertising dataset"
   ]
  },
  {
   "cell_type": "markdown",
   "id": "7c5b15e8-e714-4bf8-919e-a8a09545fbe8",
   "metadata": {},
   "source": [
    "## Project overview\n",
    "In this project, I build a Simple Linear Regression model to study the linear relationship between Sales and Advertising dataset for a dietary weight control product."
   ]
  },
  {
   "cell_type": "markdown",
   "id": "6c1b3792-ca43-4f27-97b9-6bb05e058c95",
   "metadata": {},
   "source": [
    "## Linear Regression\n",
    "Linear Regression is a statistical technique which is used to find the linear relationship between dependent and one or more independent variables. This technique is applicable for Supervised learning Regression problems where we try to predict a continuous variable.\n",
    "\n",
    "Linear Regression can be further classified into two types – Simple and Multiple Linear Regression. In this project, I employ Simple Linear Regression technique where I have one independent and one dependent variable. It is the simplest form of Linear Regression where we fit a straight line to the data."
   ]
  },
  {
   "cell_type": "markdown",
   "id": "73463759-9f42-4d1e-a187-75467f0242a4",
   "metadata": {},
   "source": [
    "## Simple Linear Regression (SLR)"
   ]
  },
  {
   "cell_type": "markdown",
   "id": "8092d6c6-2674-4893-91d4-c1e68e2b4be2",
   "metadata": {},
   "source": [
    "Simple Linear Regression (or SLR) is the simplest model in machine learning. It models the linear relationship between the independent and dependent variables. \n",
    "In this project, there is one independent or input variable which represents the Sales data and is denoted by X. Similarly, there is one dependent or output variable which represents the Advertising data and is denoted by y. We want to build a linear relationship between these variables. This linear relationship can be modelled by mathematical equation of the form:- Y = β0 + β1*X ------------- (1)\n",
    "\n",
    "In this equation, X and Y are called independent and dependent variables respectively,\n",
    "\n",
    "β1 is the coefficient for independent variable and\n",
    "\n",
    "β0 is the constant term.\n",
    "\n",
    "β0 and β1 are called parameters of the model.\n",
    "\n",
    "For simplicity, we can compare the above equation with the basic line equation of the form:-\n",
    "\n",
    "               y = ax + b       ----------------- (2)\n",
    "We can see that\n",
    "\n",
    "slope of the line is given by, a = β1, and\n",
    "\n",
    "intercept of the line by b = β0.\n",
    "\n",
    "In this Simple Linear Regression model, we want to fit a line which estimates the linear relationship between X and Y. So, the question of fitting reduces to estimating the parameters of the model β0 and β1."
   ]
  },
  {
   "cell_type": "markdown",
   "id": "268ffb0c-3af1-4e4d-8017-b4b87e81939e",
   "metadata": {},
   "source": [
    "## The problem statement\n",
    "The aim of building a machine learning model is to solve a problem and to define a metric to measure model performance.\n",
    "\n",
    "The problem is to model and investigate the linear relationship between Sales and Advertising dataset for a dietary weight control product.\n",
    "\n",
    "I have used two performance metrics RMSE (Root Mean Square Value) and R2 Score value to compute our model performance."
   ]
  },
  {
   "cell_type": "code",
   "execution_count": 14,
   "id": "54f1b613-0fd6-4177-837c-a108c4c8aa7b",
   "metadata": {},
   "outputs": [],
   "source": [
    "# importing the necessary libraries \n",
    "import numpy as np\n",
    "import pandas as pd\n",
    "import seaborn as sns \n",
    "import matplotlib.pyplot as plt"
   ]
  },
  {
   "cell_type": "markdown",
   "id": "140b5717-0d1b-4403-864c-2cf3934d2fe1",
   "metadata": {},
   "source": [
    "# About the dataset\n",
    "The data set has been imported from the econometrics website with the following url:-\n",
    "\n",
    "http://www.econometrics.com/intro/sales.htm\n",
    "\n",
    "This data set contains Sales and Advertising expenditures for a dietary weight control product. It contains monthly data for 36 months. The variables in this data set are Sales and Advertising."
   ]
  },
  {
   "cell_type": "code",
   "execution_count": 124,
   "id": "5aa7d48f-5700-48d9-8779-d5381095749e",
   "metadata": {},
   "outputs": [
    {
     "name": "stderr",
     "output_type": "stream",
     "text": [
      "C:\\Users\\Charles\\AppData\\Local\\Temp\\ipykernel_5092\\1357941663.py:4: FutureWarning: The 'delim_whitespace' keyword in pd.read_csv is deprecated and will be removed in a future version. Use ``sep='\\s+'`` instead\n",
      "  df = pd.read_csv(url,names=header_row,delim_whitespace=True)\n"
     ]
    }
   ],
   "source": [
    "#importing the dataset\n",
    "url = \"https://www.econometrics.com/intro/SALES.txt\"\n",
    "header_row = ['Sales','Advertising']\n",
    "df = pd.read_csv(url,names=header_row,delim_whitespace=True)\n"
   ]
  },
  {
   "cell_type": "markdown",
   "id": "a4e5b4fd-ce37-450f-af23-359584477175",
   "metadata": {},
   "source": [
    "## Exploratory Data Analysis\n"
   ]
  },
  {
   "cell_type": "code",
   "execution_count": 127,
   "id": "74a95924-8029-41b1-a06d-daf081e11121",
   "metadata": {},
   "outputs": [
    {
     "data": {
      "text/plain": [
       "(36, 2)"
      ]
     },
     "execution_count": 127,
     "metadata": {},
     "output_type": "execute_result"
    }
   ],
   "source": [
    "df.shape"
   ]
  },
  {
   "cell_type": "code",
   "execution_count": 129,
   "id": "fdcee06d-312e-4a86-90d1-bdbf05dc71b3",
   "metadata": {},
   "outputs": [
    {
     "data": {
      "text/html": [
       "<div>\n",
       "<style scoped>\n",
       "    .dataframe tbody tr th:only-of-type {\n",
       "        vertical-align: middle;\n",
       "    }\n",
       "\n",
       "    .dataframe tbody tr th {\n",
       "        vertical-align: top;\n",
       "    }\n",
       "\n",
       "    .dataframe thead th {\n",
       "        text-align: right;\n",
       "    }\n",
       "</style>\n",
       "<table border=\"1\" class=\"dataframe\">\n",
       "  <thead>\n",
       "    <tr style=\"text-align: right;\">\n",
       "      <th></th>\n",
       "      <th>Sales</th>\n",
       "      <th>Advertising</th>\n",
       "    </tr>\n",
       "  </thead>\n",
       "  <tbody>\n",
       "    <tr>\n",
       "      <th>0</th>\n",
       "      <td>12.0</td>\n",
       "      <td>15.0</td>\n",
       "    </tr>\n",
       "    <tr>\n",
       "      <th>1</th>\n",
       "      <td>20.5</td>\n",
       "      <td>16.0</td>\n",
       "    </tr>\n",
       "    <tr>\n",
       "      <th>2</th>\n",
       "      <td>21.0</td>\n",
       "      <td>18.0</td>\n",
       "    </tr>\n",
       "    <tr>\n",
       "      <th>3</th>\n",
       "      <td>15.5</td>\n",
       "      <td>27.0</td>\n",
       "    </tr>\n",
       "    <tr>\n",
       "      <th>4</th>\n",
       "      <td>15.3</td>\n",
       "      <td>21.0</td>\n",
       "    </tr>\n",
       "  </tbody>\n",
       "</table>\n",
       "</div>"
      ],
      "text/plain": [
       "   Sales  Advertising\n",
       "0   12.0         15.0\n",
       "1   20.5         16.0\n",
       "2   21.0         18.0\n",
       "3   15.5         27.0\n",
       "4   15.3         21.0"
      ]
     },
     "execution_count": 129,
     "metadata": {},
     "output_type": "execute_result"
    }
   ],
   "source": [
    "df.head()"
   ]
  },
  {
   "cell_type": "code",
   "execution_count": 141,
   "id": "a8c2d2ae-2c49-4021-92cc-1a3e9e1cba86",
   "metadata": {},
   "outputs": [
    {
     "name": "stdout",
     "output_type": "stream",
     "text": [
      "<class 'pandas.core.frame.DataFrame'>\n",
      "RangeIndex: 36 entries, 0 to 35\n",
      "Data columns (total 2 columns):\n",
      " #   Column       Non-Null Count  Dtype  \n",
      "---  ------       --------------  -----  \n",
      " 0   Sales        36 non-null     float64\n",
      " 1   Advertising  36 non-null     float64\n",
      "dtypes: float64(2)\n",
      "memory usage: 708.0 bytes\n"
     ]
    }
   ],
   "source": [
    "# dataframe summary\n",
    "df.info()"
   ]
  },
  {
   "cell_type": "code",
   "execution_count": 145,
   "id": "95f3ca0d-383d-4f8a-a976-9f774de685ac",
   "metadata": {},
   "outputs": [
    {
     "data": {
      "text/html": [
       "<div>\n",
       "<style scoped>\n",
       "    .dataframe tbody tr th:only-of-type {\n",
       "        vertical-align: middle;\n",
       "    }\n",
       "\n",
       "    .dataframe tbody tr th {\n",
       "        vertical-align: top;\n",
       "    }\n",
       "\n",
       "    .dataframe thead th {\n",
       "        text-align: right;\n",
       "    }\n",
       "</style>\n",
       "<table border=\"1\" class=\"dataframe\">\n",
       "  <thead>\n",
       "    <tr style=\"text-align: right;\">\n",
       "      <th></th>\n",
       "      <th>Sales</th>\n",
       "      <th>Advertising</th>\n",
       "    </tr>\n",
       "  </thead>\n",
       "  <tbody>\n",
       "    <tr>\n",
       "      <th>count</th>\n",
       "      <td>36.000000</td>\n",
       "      <td>36.000000</td>\n",
       "    </tr>\n",
       "    <tr>\n",
       "      <th>mean</th>\n",
       "      <td>24.255556</td>\n",
       "      <td>28.527778</td>\n",
       "    </tr>\n",
       "    <tr>\n",
       "      <th>std</th>\n",
       "      <td>6.185118</td>\n",
       "      <td>18.777625</td>\n",
       "    </tr>\n",
       "    <tr>\n",
       "      <th>min</th>\n",
       "      <td>12.000000</td>\n",
       "      <td>1.000000</td>\n",
       "    </tr>\n",
       "    <tr>\n",
       "      <th>25%</th>\n",
       "      <td>20.300000</td>\n",
       "      <td>15.750000</td>\n",
       "    </tr>\n",
       "    <tr>\n",
       "      <th>50%</th>\n",
       "      <td>24.250000</td>\n",
       "      <td>23.000000</td>\n",
       "    </tr>\n",
       "    <tr>\n",
       "      <th>75%</th>\n",
       "      <td>28.600000</td>\n",
       "      <td>41.000000</td>\n",
       "    </tr>\n",
       "    <tr>\n",
       "      <th>max</th>\n",
       "      <td>36.500000</td>\n",
       "      <td>65.000000</td>\n",
       "    </tr>\n",
       "  </tbody>\n",
       "</table>\n",
       "</div>"
      ],
      "text/plain": [
       "           Sales  Advertising\n",
       "count  36.000000    36.000000\n",
       "mean   24.255556    28.527778\n",
       "std     6.185118    18.777625\n",
       "min    12.000000     1.000000\n",
       "25%    20.300000    15.750000\n",
       "50%    24.250000    23.000000\n",
       "75%    28.600000    41.000000\n",
       "max    36.500000    65.000000"
      ]
     },
     "execution_count": 145,
     "metadata": {},
     "output_type": "execute_result"
    }
   ],
   "source": [
    "# descriptive analysis \n",
    "df.describe()"
   ]
  },
  {
   "cell_type": "markdown",
   "id": "a5df549c-52bc-49bf-b614-9d78969b3adc",
   "metadata": {},
   "source": [
    "## Independent and Dependent Variables\n",
    "In this project, we will  refer Independent variable as Feature variable and Dependent variable as Target variable. These variables are also recognized by different names as follows: \n",
    "\n",
    "## Independent variable\n",
    "\n",
    "Independent variable is also called Input variable and is denoted by X. In practical applications, independent variable is also called Feature variable or Predictor variable. We can denote it as:-\n",
    "\n",
    "Independent or Input variable (X) = Feature variable = Predictor variable\n",
    "\n",
    "\n",
    "## Dependent variable\n",
    "Dependent variable is also called Output variable and is denoted by y.\n",
    "\n",
    "Dependent variable is also called Target variable or Response variable. It can be denoted it as follows:-\n",
    "\n",
    "Dependent or Output variable (y) = Target variable = Response variable"
   ]
  },
  {
   "cell_type": "code",
   "execution_count": 148,
   "id": "2e69a73d-d952-41c5-8a87-dff4f3363072",
   "metadata": {},
   "outputs": [],
   "source": [
    "# Declaring features variable and Target Variable\n",
    "x=df['Sales'].values\n",
    "y=df['Advertising'].values"
   ]
  },
  {
   "cell_type": "markdown",
   "id": "d88ce0a8-9b3b-4875-9239-e8e8936f7f0f",
   "metadata": {},
   "source": [
    "## Visual Exploratory data analysis"
   ]
  },
  {
   "cell_type": "code",
   "execution_count": 157,
   "id": "3157d53a-d1cf-445d-87d0-a5fdb622cd72",
   "metadata": {},
   "outputs": [
    {
     "data": {
      "text/plain": [
       "Text(0.5, 1.0, 'Relationship Betweem Sales and Advertising')"
      ]
     },
     "execution_count": 157,
     "metadata": {},
     "output_type": "execute_result"
    },
    {
     "data": {
      "image/png": "[encoded data removed]",
      "text/plain": [
       "<Figure size 640x480 with 1 Axes>"
      ]
     },
     "metadata": {},
     "output_type": "display_data"
    }
   ],
   "source": [
    "# Ploting a scatter plot between x and y\n",
    "sns.scatterplot(data=df,x='Sales',y='Advertising')\n",
    "plt.title('Relationship Betweem Sales and Advertising')"
   ]
  },
  {
   "cell_type": "markdown",
   "id": "1065eb37-0fbd-4b75-97bd-61005b40a1cd",
   "metadata": {},
   "source": [
    "## Checking dimensions of X and y\n",
    "We need to check the dimensions of X and y to make sure they are in right format for Scikit-Learn API.\n",
    "\n",
    "It is an important precursor to model building."
   ]
  },
  {
   "cell_type": "code",
   "execution_count": 162,
   "id": "ac216a4e-2ddd-4c46-adf7-f669eef065df",
   "metadata": {},
   "outputs": [
    {
     "name": "stdout",
     "output_type": "stream",
     "text": [
      "(36,)\n",
      "(36,)\n"
     ]
    }
   ],
   "source": [
    "# Print the dimensions of X and y\n",
    "\n",
    "print(x.shape)\n",
    "print(y.shape)"
   ]
  },
  {
   "cell_type": "markdown",
   "id": "9857dfbd-ca89-4e8b-ac9c-ce2f82ccd397",
   "metadata": {},
   "source": [
    "## Reshaping X and y\n",
    "Since we are working with only one feature variable, so we need to reshape using Numpy reshape() method.\n",
    "\n",
    "It specifies first dimension to be -1, which means \"unspecified\".\n",
    "\n",
    "Its value is inferred from the length of the array and the remaining dimensions."
   ]
  },
  {
   "cell_type": "code",
   "execution_count": 167,
   "id": "b0716f29-a526-4d87-8de7-2df8d0216021",
   "metadata": {},
   "outputs": [],
   "source": [
    "# Reshape X and y\n",
    "\n",
    "x = x.reshape(-1,1)\n",
    "y = y.reshape(-1,1)"
   ]
  },
  {
   "cell_type": "code",
   "execution_count": 169,
   "id": "11c9610a-1f41-4534-a96e-c2e082cce2ec",
   "metadata": {},
   "outputs": [
    {
     "name": "stdout",
     "output_type": "stream",
     "text": [
      "(36, 1)\n",
      "(36, 1)\n"
     ]
    }
   ],
   "source": [
    "# Print the dimensions of X and y after reshaping\n",
    "\n",
    "print(x.shape)\n",
    "print(y.shape)"
   ]
  },
  {
   "cell_type": "code",
   "execution_count": 175,
   "id": "e3fd0bec-ab05-47c2-a82e-053e68283e4c",
   "metadata": {},
   "outputs": [],
   "source": [
    "# importing Sklearn \n",
    "from sklearn.linear_model import LinearRegression \n",
    "from sklearn.model_selection import train_test_split\n",
    "from sklearn.metrics import mean_squared_error ,r2_score"
   ]
  },
  {
   "cell_type": "markdown",
   "id": "58c5a98a-31e8-4703-ab94-c813099d83b2",
   "metadata": {},
   "source": [
    "## Train Test Split\n",
    "will split the dataset into two sets namely - train set and test set.\n",
    "\n",
    "The model learn the relationships from the training data and predict on test data."
   ]
  },
  {
   "cell_type": "code",
   "execution_count": 184,
   "id": "8c1f3f27-e364-45c6-bc0e-8e931c861eab",
   "metadata": {},
   "outputs": [],
   "source": [
    "# Split x and y into training and test data sets \n",
    "x_train,x_test,y_train,y_test=train_test_split(x,y,test_size=0.33,random_state=42)"
   ]
  },
  {
   "cell_type": "code",
   "execution_count": 194,
   "id": "edfd917d-0dc8-4eae-b796-fb5b4aa234ea",
   "metadata": {},
   "outputs": [
    {
     "name": "stdout",
     "output_type": "stream",
     "text": [
      "(24, 1)\n",
      "(12, 1)\n",
      "(24, 1)\n",
      "(12, 1)\n"
     ]
    }
   ],
   "source": [
    "print(x_train.shape)\n",
    "print(x_test.shape)\n",
    "print(y_train.shape)\n",
    "print(y_test.shape)"
   ]
  },
  {
   "cell_type": "markdown",
   "id": "a880c6e9-59b0-42b5-957b-44f64c131ce9",
   "metadata": {},
   "source": [
    "## Mechanics of the model\n",
    "I split the dataset into two sets – the training set and the test set. Then, I instantiate the regressor lm and fit it on the training set with the fit method.\n",
    "\n",
    "In this step, the model learned the relationships between the training data (X_train, y_train).\n",
    "\n",
    "Now the model is ready to make predictions on the test data (X_test). Hence, I predict on the test data using the predict method."
   ]
  },
  {
   "cell_type": "code",
   "execution_count": 199,
   "id": "f53dea4c-6189-448b-ab63-a04ba2444f7d",
   "metadata": {},
   "outputs": [
    {
     "data": {
      "text/html": [
       "<style>#sk-container-id-1 {\n",
       "  /* Definition of color scheme common for light and dark mode */\n",
       "  --sklearn-color-text: black;\n",
       "  --sklearn-color-line: gray;\n",
       "  /* Definition of color scheme for unfitted estimators */\n",
       "  --sklearn-color-unfitted-level-0: #fff5e6;\n",
       "  --sklearn-color-unfitted-level-1: #f6e4d2;\n",
       "  --sklearn-color-unfitted-level-2: #ffe0b3;\n",
       "  --sklearn-color-unfitted-level-3: chocolate;\n",
       "  /* Definition of color scheme for fitted estimators */\n",
       "  --sklearn-color-fitted-level-0: #f0f8ff;\n",
       "  --sklearn-color-fitted-level-1: #d4ebff;\n",
       "  --sklearn-color-fitted-level-2: #b3dbfd;\n",
       "  --sklearn-color-fitted-level-3: cornflowerblue;\n",
       "\n",
       "  /* Specific color for light theme */\n",
       "  --sklearn-color-text-on-default-background: var(--sg-text-color, var(--theme-code-foreground, var(--jp-content-font-color1, black)));\n",
       "  --sklearn-color-background: var(--sg-background-color, var(--theme-background, var(--jp-layout-color0, white)));\n",
       "  --sklearn-color-border-box: var(--sg-text-color, var(--theme-code-foreground, var(--jp-content-font-color1, black)));\n",
       "  --sklearn-color-icon: #696969;\n",
       "\n",
       "  @media (prefers-color-scheme: dark) {\n",
       "    /* Redefinition of color scheme for dark theme */\n",
       "    --sklearn-color-text-on-default-background: var(--sg-text-color, var(--theme-code-foreground, var(--jp-content-font-color1, white)));\n",
       "    --sklearn-color-background: var(--sg-background-color, var(--theme-background, var(--jp-layout-color0, #111)));\n",
       "    --sklearn-color-border-box: var(--sg-text-color, var(--theme-code-foreground, var(--jp-content-font-color1, white)));\n",
       "    --sklearn-color-icon: #878787;\n",
       "  }\n",
       "}\n",
       "\n",
       "#sk-container-id-1 {\n",
       "  color: var(--sklearn-color-text);\n",
       "}\n",
       "\n",
       "#sk-container-id-1 pre {\n",
       "  padding: 0;\n",
       "}\n",
       "\n",
       "#sk-container-id-1 input.sk-hidden--visually {\n",
       "  border: 0;\n",
       "  clip: rect(1px 1px 1px 1px);\n",
       "  clip: rect(1px, 1px, 1px, 1px);\n",
       "  height: 1px;\n",
       "  margin: -1px;\n",
       "  overflow: hidden;\n",
       "  padding: 0;\n",
       "  position: absolute;\n",
       "  width: 1px;\n",
       "}\n",
       "\n",
       "#sk-container-id-1 div.sk-dashed-wrapped {\n",
       "  border: 1px dashed var(--sklearn-color-line);\n",
       "  margin: 0 0.4em 0.5em 0.4em;\n",
       "  box-sizing: border-box;\n",
       "  padding-bottom: 0.4em;\n",
       "  background-color: var(--sklearn-color-background);\n",
       "}\n",
       "\n",
       "#sk-container-id-1 div.sk-container {\n",
       "  /* jupyter's `normalize.less` sets `[hidden] { display: none; }`\n",
       "     but bootstrap.min.css set `[hidden] { display: none !important; }`\n",
       "     so we also need the `!important` here to be able to override the\n",
       "     default hidden behavior on the sphinx rendered scikit-learn.org.\n",
       "     See: https://github.com/scikit-learn/scikit-learn/issues/21755 */\n",
       "  display: inline-block !important;\n",
       "  position: relative;\n",
       "}\n",
       "\n",
       "#sk-container-id-1 div.sk-text-repr-fallback {\n",
       "  display: none;\n",
       "}\n",
       "\n",
       "div.sk-parallel-item,\n",
       "div.sk-serial,\n",
       "div.sk-item {\n",
       "  /* draw centered vertical line to link estimators */\n",
       "  background-image: linear-gradient(var(--sklearn-color-text-on-default-background), var(--sklearn-color-text-on-default-background));\n",
       "  background-size: 2px 100%;\n",
       "  background-repeat: no-repeat;\n",
       "  background-position: center center;\n",
       "}\n",
       "\n",
       "/* Parallel-specific style estimator block */\n",
       "\n",
       "#sk-container-id-1 div.sk-parallel-item::after {\n",
       "  content: \"\";\n",
       "  width: 100%;\n",
       "  border-bottom: 2px solid var(--sklearn-color-text-on-default-background);\n",
       "  flex-grow: 1;\n",
       "}\n",
       "\n",
       "#sk-container-id-1 div.sk-parallel {\n",
       "  display: flex;\n",
       "  align-items: stretch;\n",
       "  justify-content: center;\n",
       "  background-color: var(--sklearn-color-background);\n",
       "  position: relative;\n",
       "}\n",
       "\n",
       "#sk-container-id-1 div.sk-parallel-item {\n",
       "  display: flex;\n",
       "  flex-direction: column;\n",
       "}\n",
       "\n",
       "#sk-container-id-1 div.sk-parallel-item:first-child::after {\n",
       "  align-self: flex-end;\n",
       "  width: 50%;\n",
       "}\n",
       "\n",
       "#sk-container-id-1 div.sk-parallel-item:last-child::after {\n",
       "  align-self: flex-start;\n",
       "  width: 50%;\n",
       "}\n",
       "\n",
       "#sk-container-id-1 div.sk-parallel-item:only-child::after {\n",
       "  width: 0;\n",
       "}\n",
       "\n",
       "/* Serial-specific style estimator block */\n",
       "\n",
       "#sk-container-id-1 div.sk-serial {\n",
       "  display: flex;\n",
       "  flex-direction: column;\n",
       "  align-items: center;\n",
       "  background-color: var(--sklearn-color-background);\n",
       "  padding-right: 1em;\n",
       "  padding-left: 1em;\n",
       "}\n",
       "\n",
       "\n",
       "/* Toggleable style: style used for estimator/Pipeline/ColumnTransformer box that is\n",
       "clickable and can be expanded/collapsed.\n",
       "- Pipeline and ColumnTransformer use this feature and define the default style\n",
       "- Estimators will overwrite some part of the style using the `sk-estimator` class\n",
       "*/\n",
       "\n",
       "/* Pipeline and ColumnTransformer style (default) */\n",
       "\n",
       "#sk-container-id-1 div.sk-toggleable {\n",
       "  /* Default theme specific background. It is overwritten whether we have a\n",
       "  specific estimator or a Pipeline/ColumnTransformer */\n",
       "  background-color: var(--sklearn-color-background);\n",
       "}\n",
       "\n",
       "/* Toggleable label */\n",
       "#sk-container-id-1 label.sk-toggleable__label {\n",
       "  cursor: pointer;\n",
       "  display: block;\n",
       "  width: 100%;\n",
       "  margin-bottom: 0;\n",
       "  padding: 0.5em;\n",
       "  box-sizing: border-box;\n",
       "  text-align: center;\n",
       "}\n",
       "\n",
       "#sk-container-id-1 label.sk-toggleable__label-arrow:before {\n",
       "  /* Arrow on the left of the label */\n",
       "  content: \"▸\";\n",
       "  float: left;\n",
       "  margin-right: 0.25em;\n",
       "  color: var(--sklearn-color-icon);\n",
       "}\n",
       "\n",
       "#sk-container-id-1 label.sk-toggleable__label-arrow:hover:before {\n",
       "  color: var(--sklearn-color-text);\n",
       "}\n",
       "\n",
       "/* Toggleable content - dropdown */\n",
       "\n",
       "#sk-container-id-1 div.sk-toggleable__content {\n",
       "  max-height: 0;\n",
       "  max-width: 0;\n",
       "  overflow: hidden;\n",
       "  text-align: left;\n",
       "  /* unfitted */\n",
       "  background-color: var(--sklearn-color-unfitted-level-0);\n",
       "}\n",
       "\n",
       "#sk-container-id-1 div.sk-toggleable__content.fitted {\n",
       "  /* fitted */\n",
       "  background-color: var(--sklearn-color-fitted-level-0);\n",
       "}\n",
       "\n",
       "#sk-container-id-1 div.sk-toggleable__content pre {\n",
       "  margin: 0.2em;\n",
       "  border-radius: 0.25em;\n",
       "  color: var(--sklearn-color-text);\n",
       "  /* unfitted */\n",
       "  background-color: var(--sklearn-color-unfitted-level-0);\n",
       "}\n",
       "\n",
       "#sk-container-id-1 div.sk-toggleable__content.fitted pre {\n",
       "  /* unfitted */\n",
       "  background-color: var(--sklearn-color-fitted-level-0);\n",
       "}\n",
       "\n",
       "#sk-container-id-1 input.sk-toggleable__control:checked~div.sk-toggleable__content {\n",
       "  /* Expand drop-down */\n",
       "  max-height: 200px;\n",
       "  max-width: 100%;\n",
       "  overflow: auto;\n",
       "}\n",
       "\n",
       "#sk-container-id-1 input.sk-toggleable__control:checked~label.sk-toggleable__label-arrow:before {\n",
       "  content: \"▾\";\n",
       "}\n",
       "\n",
       "/* Pipeline/ColumnTransformer-specific style */\n",
       "\n",
       "#sk-container-id-1 div.sk-label input.sk-toggleable__control:checked~label.sk-toggleable__label {\n",
       "  color: var(--sklearn-color-text);\n",
       "  background-color: var(--sklearn-color-unfitted-level-2);\n",
       "}\n",
       "\n",
       "#sk-container-id-1 div.sk-label.fitted input.sk-toggleable__control:checked~label.sk-toggleable__label {\n",
       "  background-color: var(--sklearn-color-fitted-level-2);\n",
       "}\n",
       "\n",
       "/* Estimator-specific style */\n",
       "\n",
       "/* Colorize estimator box */\n",
       "#sk-container-id-1 div.sk-estimator input.sk-toggleable__control:checked~label.sk-toggleable__label {\n",
       "  /* unfitted */\n",
       "  background-color: var(--sklearn-color-unfitted-level-2);\n",
       "}\n",
       "\n",
       "#sk-container-id-1 div.sk-estimator.fitted input.sk-toggleable__control:checked~label.sk-toggleable__label {\n",
       "  /* fitted */\n",
       "  background-color: var(--sklearn-color-fitted-level-2);\n",
       "}\n",
       "\n",
       "#sk-container-id-1 div.sk-label label.sk-toggleable__label,\n",
       "#sk-container-id-1 div.sk-label label {\n",
       "  /* The background is the default theme color */\n",
       "  color: var(--sklearn-color-text-on-default-background);\n",
       "}\n",
       "\n",
       "/* On hover, darken the color of the background */\n",
       "#sk-container-id-1 div.sk-label:hover label.sk-toggleable__label {\n",
       "  color: var(--sklearn-color-text);\n",
       "  background-color: var(--sklearn-color-unfitted-level-2);\n",
       "}\n",
       "\n",
       "/* Label box, darken color on hover, fitted */\n",
       "#sk-container-id-1 div.sk-label.fitted:hover label.sk-toggleable__label.fitted {\n",
       "  color: var(--sklearn-color-text);\n",
       "  background-color: var(--sklearn-color-fitted-level-2);\n",
       "}\n",
       "\n",
       "/* Estimator label */\n",
       "\n",
       "#sk-container-id-1 div.sk-label label {\n",
       "  font-family: monospace;\n",
       "  font-weight: bold;\n",
       "  display: inline-block;\n",
       "  line-height: 1.2em;\n",
       "}\n",
       "\n",
       "#sk-container-id-1 div.sk-label-container {\n",
       "  text-align: center;\n",
       "}\n",
       "\n",
       "/* Estimator-specific */\n",
       "#sk-container-id-1 div.sk-estimator {\n",
       "  font-family: monospace;\n",
       "  border: 1px dotted var(--sklearn-color-border-box);\n",
       "  border-radius: 0.25em;\n",
       "  box-sizing: border-box;\n",
       "  margin-bottom: 0.5em;\n",
       "  /* unfitted */\n",
       "  background-color: var(--sklearn-color-unfitted-level-0);\n",
       "}\n",
       "\n",
       "#sk-container-id-1 div.sk-estimator.fitted {\n",
       "  /* fitted */\n",
       "  background-color: var(--sklearn-color-fitted-level-0);\n",
       "}\n",
       "\n",
       "/* on hover */\n",
       "#sk-container-id-1 div.sk-estimator:hover {\n",
       "  /* unfitted */\n",
       "  background-color: var(--sklearn-color-unfitted-level-2);\n",
       "}\n",
       "\n",
       "#sk-container-id-1 div.sk-estimator.fitted:hover {\n",
       "  /* fitted */\n",
       "  background-color: var(--sklearn-color-fitted-level-2);\n",
       "}\n",
       "\n",
       "/* Specification for estimator info (e.g. \"i\" and \"?\") */\n",
       "\n",
       "/* Common style for \"i\" and \"?\" */\n",
       "\n",
       ".sk-estimator-doc-link,\n",
       "a:link.sk-estimator-doc-link,\n",
       "a:visited.sk-estimator-doc-link {\n",
       "  float: right;\n",
       "  font-size: smaller;\n",
       "  line-height: 1em;\n",
       "  font-family: monospace;\n",
       "  background-color: var(--sklearn-color-background);\n",
       "  border-radius: 1em;\n",
       "  height: 1em;\n",
       "  width: 1em;\n",
       "  text-decoration: none !important;\n",
       "  margin-left: 1ex;\n",
       "  /* unfitted */\n",
       "  border: var(--sklearn-color-unfitted-level-1) 1pt solid;\n",
       "  color: var(--sklearn-color-unfitted-level-1);\n",
       "}\n",
       "\n",
       ".sk-estimator-doc-link.fitted,\n",
       "a:link.sk-estimator-doc-link.fitted,\n",
       "a:visited.sk-estimator-doc-link.fitted {\n",
       "  /* fitted */\n",
       "  border: var(--sklearn-color-fitted-level-1) 1pt solid;\n",
       "  color: var(--sklearn-color-fitted-level-1);\n",
       "}\n",
       "\n",
       "/* On hover */\n",
       "div.sk-estimator:hover .sk-estimator-doc-link:hover,\n",
       ".sk-estimator-doc-link:hover,\n",
       "div.sk-label-container:hover .sk-estimator-doc-link:hover,\n",
       ".sk-estimator-doc-link:hover {\n",
       "  /* unfitted */\n",
       "  background-color: var(--sklearn-color-unfitted-level-3);\n",
       "  color: var(--sklearn-color-background);\n",
       "  text-decoration: none;\n",
       "}\n",
       "\n",
       "div.sk-estimator.fitted:hover .sk-estimator-doc-link.fitted:hover,\n",
       ".sk-estimator-doc-link.fitted:hover,\n",
       "div.sk-label-container:hover .sk-estimator-doc-link.fitted:hover,\n",
       ".sk-estimator-doc-link.fitted:hover {\n",
       "  /* fitted */\n",
       "  background-color: var(--sklearn-color-fitted-level-3);\n",
       "  color: var(--sklearn-color-background);\n",
       "  text-decoration: none;\n",
       "}\n",
       "\n",
       "/* Span, style for the box shown on hovering the info icon */\n",
       ".sk-estimator-doc-link span {\n",
       "  display: none;\n",
       "  z-index: 9999;\n",
       "  position: relative;\n",
       "  font-weight: normal;\n",
       "  right: .2ex;\n",
       "  padding: .5ex;\n",
       "  margin: .5ex;\n",
       "  width: min-content;\n",
       "  min-width: 20ex;\n",
       "  max-width: 50ex;\n",
       "  color: var(--sklearn-color-text);\n",
       "  box-shadow: 2pt 2pt 4pt #999;\n",
       "  /* unfitted */\n",
       "  background: var(--sklearn-color-unfitted-level-0);\n",
       "  border: .5pt solid var(--sklearn-color-unfitted-level-3);\n",
       "}\n",
       "\n",
       ".sk-estimator-doc-link.fitted span {\n",
       "  /* fitted */\n",
       "  background: var(--sklearn-color-fitted-level-0);\n",
       "  border: var(--sklearn-color-fitted-level-3);\n",
       "}\n",
       "\n",
       ".sk-estimator-doc-link:hover span {\n",
       "  display: block;\n",
       "}\n",
       "\n",
       "/* \"?\"-specific style due to the `<a>` HTML tag */\n",
       "\n",
       "#sk-container-id-1 a.estimator_doc_link {\n",
       "  float: right;\n",
       "  font-size: 1rem;\n",
       "  line-height: 1em;\n",
       "  font-family: monospace;\n",
       "  background-color: var(--sklearn-color-background);\n",
       "  border-radius: 1rem;\n",
       "  height: 1rem;\n",
       "  width: 1rem;\n",
       "  text-decoration: none;\n",
       "  /* unfitted */\n",
       "  color: var(--sklearn-color-unfitted-level-1);\n",
       "  border: var(--sklearn-color-unfitted-level-1) 1pt solid;\n",
       "}\n",
       "\n",
       "#sk-container-id-1 a.estimator_doc_link.fitted {\n",
       "  /* fitted */\n",
       "  border: var(--sklearn-color-fitted-level-1) 1pt solid;\n",
       "  color: var(--sklearn-color-fitted-level-1);\n",
       "}\n",
       "\n",
       "/* On hover */\n",
       "#sk-container-id-1 a.estimator_doc_link:hover {\n",
       "  /* unfitted */\n",
       "  background-color: var(--sklearn-color-unfitted-level-3);\n",
       "  color: var(--sklearn-color-background);\n",
       "  text-decoration: none;\n",
       "}\n",
       "\n",
       "#sk-container-id-1 a.estimator_doc_link.fitted:hover {\n",
       "  /* fitted */\n",
       "  background-color: var(--sklearn-color-fitted-level-3);\n",
       "}\n",
       "</style><div id=\"sk-container-id-1\" class=\"sk-top-container\"><div class=\"sk-text-repr-fallback\"><pre>LinearRegression()</pre><b>In a Jupyter environment, please rerun this cell to show the HTML representation or trust the notebook. <br />On GitHub, the HTML representation is unable to render, please try loading this page with nbviewer.org.</b></div><div class=\"sk-container\" hidden><div class=\"sk-item\"><div class=\"sk-estimator fitted sk-toggleable\"><input class=\"sk-toggleable__control sk-hidden--visually\" id=\"sk-estimator-id-1\" type=\"checkbox\" checked><label for=\"sk-estimator-id-1\" class=\"sk-toggleable__label fitted sk-toggleable__label-arrow fitted\">&nbsp;&nbsp;LinearRegression<a class=\"sk-estimator-doc-link fitted\" rel=\"noreferrer\" target=\"_blank\" href=\"https://scikit-learn.org/1.5/modules/generated/sklearn.linear_model.LinearRegression.html\">?<span>Documentation for LinearRegression</span></a><span class=\"sk-estimator-doc-link fitted\">i<span>Fitted</span></span></label><div class=\"sk-toggleable__content fitted\"><pre>LinearRegression()</pre></div> </div></div></div></div>"
      ],
      "text/plain": [
       "LinearRegression()"
      ]
     },
     "execution_count": 199,
     "metadata": {},
     "output_type": "execute_result"
    }
   ],
   "source": [
    "#training the model using training datasets \n",
    "lm=LinearRegression()\n",
    "lm.fit(x_train,y_train)\n"
   ]
  },
  {
   "cell_type": "code",
   "execution_count": 201,
   "id": "18f905cf-0e56-4242-89d1-bcc99593e3c4",
   "metadata": {},
   "outputs": [],
   "source": [
    "#predict on the datasets\n",
    "y_pred=lm.predict(x_test)"
   ]
  },
  {
   "cell_type": "markdown",
   "id": "7db6b757-5d2a-41c6-8d14-3bfebab5482d",
   "metadata": {},
   "source": [
    "## Model slope and intercept term\n",
    "The model slope is given by lm.coef_ and model intercept term is given by lm.intercept_.\n",
    "\n",
    "The estimated model slope and intercept values are 1.60509347 and -11.16003616.\n",
    "\n",
    "So, the equation of the fitted regression line is\n",
    "\n",
    "y = 1.60509347 * x - 11.16003616"
   ]
  },
  {
   "cell_type": "code",
   "execution_count": 204,
   "id": "7f53647c-38b4-42ae-b860-c7498c30c18b",
   "metadata": {},
   "outputs": [],
   "source": [
    "# Computing the model slope and intercept\n",
    "a=lm.coef_\n",
    "b=lm.intercept_"
   ]
  },
  {
   "cell_type": "code",
   "execution_count": 210,
   "id": "61abecd4-e546-482d-86f8-1334999a165c",
   "metadata": {},
   "outputs": [
    {
     "name": "stdout",
     "output_type": "stream",
     "text": [
      "Estimated model slope: [[1.60509347]]\n",
      "Estimated model intercept: [-11.16003616]\n"
     ]
    }
   ],
   "source": [
    "print('Estimated model slope:', a)\n",
    "print('Estimated model intercept:', b)\n"
   ]
  },
  {
   "cell_type": "code",
   "execution_count": 212,
   "id": "a6ab31da-0eb6-4159-a237-dbd4e13564b2",
   "metadata": {},
   "outputs": [],
   "source": [
    "# So, our fitted regression line is \n",
    "\n",
    "# y = 1.60509347 * x - 11.16003616 \n",
    "\n",
    "# That is our linear model."
   ]
  },
  {
   "cell_type": "markdown",
   "id": "590a1be4-dc66-4840-89c4-ed8621f32b21",
   "metadata": {},
   "source": [
    "## Making predictions\n",
    "I have predicted the Advertising values on first five 5 Sales datasets by writing code\n",
    "\n",
    "\tlm.predict(X) [0:5]  \n",
    "    \n",
    "If I remove [0:5], then I will get predicted Advertising values for the whole Sales dataset.\n",
    "\n",
    "To make prediction, on an individual Sales value, I write\n",
    "\n",
    "\tlm.predict(Xi)\n",
    "    \n",
    "where Xi is the Sales data value of the ith observation."
   ]
  },
  {
   "cell_type": "code",
   "execution_count": 217,
   "id": "67c976de-54b5-4cc5-8c52-977a44359b90",
   "metadata": {},
   "outputs": [
    {
     "data": {
      "text/plain": [
       "array([[ 8.10108551],\n",
       "       [21.74438002],\n",
       "       [22.54692675],\n",
       "       [13.71891266],\n",
       "       [13.39789396]])"
      ]
     },
     "execution_count": 217,
     "metadata": {},
     "output_type": "execute_result"
    }
   ],
   "source": [
    "#Predicting  Advertising Values \n",
    "lm.predict(x)[0:5]\n",
    "# predicting Advertising values on first five sales values "
   ]
  },
  {
   "cell_type": "code",
   "execution_count": 227,
   "id": "3fb0918b-88c5-4db4-b34a-2966a98ef441",
   "metadata": {},
   "outputs": [
    {
     "name": "stdout",
     "output_type": "stream",
     "text": [
      "[[27.36220717]]\n"
     ]
    }
   ],
   "source": [
    "#To make an individual row prediction using the linear regression model \n",
    "print(str(lm.predict(np.array([24]).reshape(-1, 1))))  # Reshape 24 into a 2D array with shape (1, 1)"
   ]
  },
  {
   "cell_type": "markdown",
   "id": "7cc400a0-2130-4b72-aea6-b4461a6275c0",
   "metadata": {},
   "source": [
    "## Regression metrics for model performance\n",
    "Now, it is the time to evaluate model performance.\n",
    "\n",
    "For regression problems, there are two ways to compute the model performance. They are RMSE (Root Mean Square Error) and R-Squared Value. These are explained below:-\n",
    "## RMSE\n",
    "\n",
    "RMSE is the standard deviation of the residuals. So, RMSE gives us the standard deviation of the unexplained variance by the model. It can be calculated by taking square root of Mean Squared Error. RMSE is an absolute measure of fit. It gives us how spread the residuals are, given by the standard deviation of the residuals. The more concentrated the data is around the regression line, the lower the residuals and hence lower the standard deviation of residuals. It results in lower values of RMSE. So, lower values of RMSE indicate better fit of data."
   ]
  },
  {
   "cell_type": "code",
   "execution_count": 234,
   "id": "d60f3d50-baf9-4ac2-854a-56dba0cdd6ba",
   "metadata": {},
   "outputs": [
    {
     "name": "stdout",
     "output_type": "stream",
     "text": [
      "RMSE Value: 11.227260890598618\n"
     ]
    }
   ],
   "source": [
    "# Calculating the root mean square error (RMSE)\n",
    "mse=mean_squared_error(y_test,y_pred)\n",
    "rmse=np.sqrt(mse)\n",
    "print('RMSE Value:',rmse)"
   ]
  },
  {
   "cell_type": "markdown",
   "id": "1afebf77-3ddd-4119-9ecf-067d1a66d3fd",
   "metadata": {},
   "source": [
    "## R2 Score\n",
    "\n",
    "R2 Score is another metric to evaluate performance of a regression model. It is also called coefficient of determination. It gives us an idea of goodness of fit for the linear regression models. It indicates the percentage of variance that is explained by the model.\n",
    "\n",
    "Mathematically,\n",
    "\n",
    "R2 Score = Explained Variation/Total Variation\n",
    "\n",
    "In general, the higher the R2 Score value, the better the model fits the data. Usually, its value ranges from 0 to 1. So, we want its value to be as close to 1. Its value can become negative if our model is wrong."
   ]
  },
  {
   "cell_type": "code",
   "execution_count": 237,
   "id": "8e6c11dc-a126-4a82-b6d4-0dbc0f6f4571",
   "metadata": {},
   "outputs": [
    {
     "name": "stdout",
     "output_type": "stream",
     "text": [
      "R2 Score value: 0.5789\n"
     ]
    }
   ],
   "source": [
    "#Calculating the R2 score \n",
    "print (\"R2 Score value: {:.4f}\".format(r2_score(y_test, y_pred)))\n"
   ]
  },
  {
   "cell_type": "markdown",
   "id": "ece13a1b-b9d7-445e-8f7c-ca85133c05a5",
   "metadata": {},
   "source": [
    "## interpretation and Conclusion\n",
    "The RMSE value has been found to be 11.2273. It means the standard deviation for our prediction is 11.2273. So, sometimes we expect the predictions to be off by more than 11.2273 and other times we expect less than 11.2273. So, the model is not good fit to the data.\n",
    "\n",
    "In business decisions, the benchmark for the R2 score value is 0.7. It means if R2 score value >= 0.7, then the model is good enough to deploy on unseen data whereas if R2 score value < 0.7, then the model is not good enough to deploy. Our R2 score value has been found to be .5789. It means that this model explains 57.89 % of the variance in our dependent variable. So, the R2 score value confirms that the model is not good enough to deploy because it does not provide good fit to the data."
   ]
  },
  {
   "cell_type": "code",
   "execution_count": 242,
   "id": "b9b98e11-6912-4aa5-b49f-7deed0450c21",
   "metadata": {},
   "outputs": [
    {
     "data": {
      "text/plain": [
       "<matplotlib.legend.Legend at 0x21197593590>"
      ]
     },
     "execution_count": 242,
     "metadata": {},
     "output_type": "execute_result"
    },
    {
     "data": {
      "image/png": "[encoded data removed]",
      "text/plain": [
       "<Figure size 640x480 with 1 Axes>"
      ]
     },
     "metadata": {},
     "output_type": "display_data"
    }
   ],
   "source": [
    "# Plot the Regression Line\n",
    "plt.scatter(x,y,c='blue',label='scatter plot')\n",
    "plt.plot(x_test,y_pred,color='black',lw=3,label='Regression Line')\n",
    "plt.title('Relationship between sales and Advertising')\n",
    "plt.xlabel('sales')\n",
    "plt.ylabel('Advertising')\n",
    "plt.legend(loc=4)"
   ]
  },
  {
   "cell_type": "markdown",
   "id": "a51371be-619b-4bb1-862b-99a6548e2a7a",
   "metadata": {},
   "source": [
    "## Residual analysis\n",
    "A linear regression model may not represent the data appropriately. The model may be a poor fit to the data. So, we should validate our model by defining and examining residual plots.\n",
    "\n",
    "The difference between the observed value of the dependent variable (y) and the predicted value (ŷi) is called the residual and is denoted by e. The scatter-plot of these residuals is called residual plot.\n",
    "\n",
    "If the data points in a residual plot are randomly dispersed around horizontal axis and an approximate zero residual mean, a linear regression model may be appropriate for the data. Otherwise a non-linear model may be more appropriate.\n",
    "\n",
    "If we take a look at the generated ‘Residual errors’ plot, we can clearly see that the train data plot pattern is non-random. Same is the case with the test data plot pattern. So, it suggests a better-fit for a non-linear model."
   ]
  },
  {
   "cell_type": "code",
   "execution_count": 245,
   "id": "5a0164c5-cbc2-488a-86ec-ad1ff2a3ae77",
   "metadata": {},
   "outputs": [
    {
     "data": {
      "image/png": "[encoded data removed]",
      "text/plain": [
       "<Figure size 640x480 with 1 Axes>"
      ]
     },
     "metadata": {},
     "output_type": "display_data"
    }
   ],
   "source": [
    "# Plotting residual errors\n",
    "\n",
    "plt.scatter(lm.predict(x_train), lm.predict(x_train) - y_train, color = 'red', label = 'Train data')\n",
    "plt.scatter(lm.predict(x_test), lm.predict(x_test) - y_test, color = 'blue', label = 'Test data')\n",
    "plt.hlines(xmin = 0, xmax = 50, y = 0, linewidth = 3)\n",
    "plt.title('Residual errors')\n",
    "plt.legend(loc = 4)\n",
    "plt.show()"
   ]
  },
  {
   "cell_type": "markdown",
   "id": "f630403b-f364-4810-a21e-ba62c4cb78a6",
   "metadata": {},
   "source": [
    "## Checking for Overfitting and Underfitting\n",
    "I calculate training set score as 0.2861. Similarly, I calculate test set score as 0.5789. The training set score is very poor. So, the model does not learn the relationships appropriately from the training data. Thus, the model performs poorly on the training data. It is a clear sign of Underfitting. Hence, I validated my finding that the linear regression model does not provide good fit to the data.\n",
    "\n",
    "Underfitting means our model performs poorly on the training data. It means the model does not capture the relationships between the training data. This problem can be improved by increasing model complexity. We should use more powerful models like Polynomial regression to increase model complexity."
   ]
  },
  {
   "cell_type": "code",
   "execution_count": 254,
   "id": "135a1f9a-1d15-4643-888a-1d17c070fc34",
   "metadata": {},
   "outputs": [
    {
     "name": "stdout",
     "output_type": "stream",
     "text": [
      "Training set score:  0.2861319267488459\n",
      "Test set score:  0.5789222227665716\n"
     ]
    }
   ],
   "source": [
    "# Checking for Overfitting or Underfitting the data\n",
    "print('Training set score: ',lm.score(x_train,y_train))\n",
    "print('Test set score: ',lm.score(x_test,y_test))"
   ]
  },
  {
   "cell_type": "code",
   "execution_count": 260,
   "id": "6f7b1d43-df4d-44e6-b680-fff25a1e26b6",
   "metadata": {},
   "outputs": [
    {
     "data": {
      "text/plain": [
       "['lm_regressor.pkl']"
      ]
     },
     "execution_count": 260,
     "metadata": {},
     "output_type": "execute_result"
    }
   ],
   "source": [
    "# Save model for future use\n",
    "import joblib\n",
    "joblib.dump(lm, 'lm_regressor.pkl')"
   ]
  },
  {
   "cell_type": "code",
   "execution_count": null,
   "id": "a1a7a44c-ada0-439f-afce-1f7dec2b37dc",
   "metadata": {},
   "outputs": [],
   "source": []
  }
 ],
 "metadata": {
  "kernelspec": {
   "display_name": "Python [conda env:base] *",
   "language": "python",
   "name": "conda-base-py"
  },
  "language_info": {
   "codemirror_mode": {
    "name": "ipython",
    "version": 3
   },
   "file_extension": ".py",
   "mimetype": "text/x-python",
   "name": "python",
   "nbconvert_exporter": "python",
   "pygments_lexer": "ipython3",
   "version": "3.12.7"
  }
 },
 "nbformat": 4,
 "nbformat_minor": 5
}
